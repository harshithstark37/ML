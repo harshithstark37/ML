{
  "nbformat": 4,
  "nbformat_minor": 0,
  "metadata": {
    "colab": {
      "provenance": [],
      "authorship_tag": "ABX9TyPfNKuYyiGDJbgka2/0CS4W",
      "include_colab_link": true
    },
    "kernelspec": {
      "name": "python3",
      "display_name": "Python 3"
    },
    "language_info": {
      "name": "python"
    }
  },
  "cells": [
    {
      "cell_type": "markdown",
      "metadata": {
        "id": "view-in-github",
        "colab_type": "text"
      },
      "source": [
        "<a href=\"https://colab.research.google.com/github/harshithstark37/ML/blob/main/DataScienceEcosystem.ipynb\" target=\"_parent\"><img src=\"https://colab.research.google.com/assets/colab-badge.svg\" alt=\"Open In Colab\"/></a>"
      ]
    },
    {
      "cell_type": "markdown",
      "source": [
        "# Data Science Tools and Ecosystem"
      ],
      "metadata": {
        "id": "F9e5y6sbWUtC"
      }
    },
    {
      "cell_type": "markdown",
      "source": [
        "In this notebook, Data Science Tools and Ecosystem are summarized."
      ],
      "metadata": {
        "id": "c0rkXJvaWxdp"
      }
    },
    {
      "cell_type": "markdown",
      "source": [
        "Some of the popular languages that Data Scientists use are:\n",
        "1. Python\n",
        "2. R\n",
        "3. Java\n",
        "4. Julia"
      ],
      "metadata": {
        "id": "oAsbaTpNYDj1"
      }
    },
    {
      "cell_type": "markdown",
      "source": [
        "Some of the commonly used libraries used by Data Scientists include:\n",
        "1. Pandas\n",
        "2. numpy\n",
        "3. matplotlib\n",
        "4. scikit learn"
      ],
      "metadata": {
        "id": "niIk49ltY2mB"
      }
    },
    {
      "cell_type": "markdown",
      "source": [
        "|Data Science Tools|\n",
        "|------------------|\n",
        "|RStudio|\n",
        "|Jupyter Notebook|\n",
        "|Apache Spark|\n",
        "|Hive|\n",
        "|Apache Hadoop|\n",
        "|Google colab|\n",
        "|TensorFlow|"
      ],
      "metadata": {
        "id": "E4rFwGmwZq7I"
      }
    },
    {
      "cell_type": "markdown",
      "source": [
        " ### Below are a few examples of evaluating arithmetic expressions in Python"
      ],
      "metadata": {
        "id": "vw6I6y7AaZ-K"
      }
    },
    {
      "cell_type": "code",
      "source": [
        "a = 2\n",
        "b = 4\n",
        "c = a+b\n",
        "print(c)"
      ],
      "metadata": {
        "colab": {
          "base_uri": "https://localhost:8080/"
        },
        "id": "kVutks-tatY0",
        "outputId": "2954cbb2-cd84-4039-a280-b1a09a8dd473"
      },
      "execution_count": 1,
      "outputs": [
        {
          "output_type": "stream",
          "name": "stdout",
          "text": [
            "6\n"
          ]
        }
      ]
    },
    {
      "cell_type": "markdown",
      "source": [
        "This a simple arithmetic expression to mutiply then add integers"
      ],
      "metadata": {
        "id": "IA5McAU83Mhc"
      }
    },
    {
      "cell_type": "code",
      "source": [
        "(3*4)+5"
      ],
      "metadata": {
        "colab": {
          "base_uri": "https://localhost:8080/"
        },
        "id": "kQVQM5OA3NUU",
        "outputId": "828afb3c-633b-4b08-d6b5-5f8de7b59c07"
      },
      "execution_count": 1,
      "outputs": [
        {
          "output_type": "execute_result",
          "data": {
            "text/plain": [
              "17"
            ]
          },
          "metadata": {},
          "execution_count": 1
        }
      ]
    },
    {
      "cell_type": "markdown",
      "source": [
        "This will convert 200 minutes to hours by diving by 60"
      ],
      "metadata": {
        "id": "Lm68UoH33vzx"
      }
    },
    {
      "cell_type": "code",
      "source": [
        "print(\"200 min is\", 200/60)"
      ],
      "metadata": {
        "colab": {
          "base_uri": "https://localhost:8080/"
        },
        "id": "hZK9oNQ53wLE",
        "outputId": "179e367f-0412-47bd-d5cf-d4d28e50af40"
      },
      "execution_count": 3,
      "outputs": [
        {
          "output_type": "stream",
          "name": "stdout",
          "text": [
            "200 min is 3.3333333333333335\n"
          ]
        }
      ]
    },
    {
      "cell_type": "markdown",
      "source": [
        "## Author\n",
        "Harshith"
      ],
      "metadata": {
        "id": "Hp1rMLZv4qPh"
      }
    }
  ]
}